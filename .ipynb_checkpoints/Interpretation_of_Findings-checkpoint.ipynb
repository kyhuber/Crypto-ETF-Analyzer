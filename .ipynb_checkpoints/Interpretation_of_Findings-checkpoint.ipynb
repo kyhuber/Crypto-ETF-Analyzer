{
 "cells": [
  {
   "cell_type": "markdown",
   "id": "0e12e63d-381b-4cce-9d9d-ccf655ecadc2",
   "metadata": {},
   "source": [
    "Interpretation of Findings"
   ]
  },
  {
   "cell_type": "markdown",
   "id": "8fd19cef-0624-4c70-9c55-f412284928cd",
   "metadata": {},
   "source": [
    "Question 1:\n",
    "\n",
    "Answer 1:"
   ]
  }
 ],
 "metadata": {
  "kernelspec": {
   "display_name": "Python 3 (ipykernel)",
   "language": "python",
   "name": "python3"
  },
  "language_info": {
   "codemirror_mode": {
    "name": "ipython",
    "version": 3
   },
   "file_extension": ".py",
   "mimetype": "text/x-python",
   "name": "python",
   "nbconvert_exporter": "python",
   "pygments_lexer": "ipython3",
   "version": "3.7.11"
  }
 },
 "nbformat": 4,
 "nbformat_minor": 5
}
