{
 "cells": [
  {
   "cell_type": "markdown",
   "id": "0e12e63d-381b-4cce-9d9d-ccf655ecadc2",
   "metadata": {},
   "source": [
    "Interpretation of Findings"
   ]
  },
  {
   "cell_type": "markdown",
   "id": "8fd19cef-0624-4c70-9c55-f412284928cd",
   "metadata": {},
   "source": [
    "Interpretation of Findings\n",
    "\n",
    "The Crypto ETF Analyzer performs financial calculations to analyze Risk and Reward for Cryptocurrency BTC and Crypto ETF BITF against the S&P500. It also performs financial analysis for portfolios of SPY/ETF and SPY/BTC. Finally, the Monte Carlo Simulation is programmed to predict a 1 year cumulative portfolio return.\n",
    "\n",
    "First calculation to analyze is the Performance of the SPY, BITW and BTC portfolio. Here, the application takes the daily closing price of each asset class and calculates the percentage change to determine the daily returns; and provides a statistics summary.\n",
    "\n",
    "The statistic summary concludes that out of 343 trading days, the average daily returns in this portfolio are SPY = .000716, BITW = .007953 and BTC = .004718\n",
    "\n",
    "From the plot visualization, SPY as benchmark stable at in general, daily returns consistant but BITW has huge returns end of 2020 @ IPO then stabilazed throught 2021 into 2022.\n",
    "\n",
    "Cumulative Returns: In december of 2020, BITW cumulative return was the higher of than SPY and BITW. By July of 2021, BITW's cumulative return decreased in correlation with BTC. after july, BTC cumulative return increased above that of BITW. The are positively coorelate hoever the amount of increase and or decrease varies. Currently, BTC has the higher cumulative return.\n",
    "\n",
    "Volatily: BITW has the most volatility, has larger wedges and more outliers.\n",
    "\n",
    "Risk: BITW has the highest annualized standard deviation of 1.91; BTC is .760 and spy is .146. Therefore, BITW is the most riskiest investment choice.\n",
    "\n",
    "looking at the visualiztion, in Dec. 2020, BITW was most volitale. After 4/21, BITW STD dev decrease and became closer to the BTC std showing that both BITW and BTC closer in risk.\n",
    "\n",
    "SPY has stated consistant ann st dev and has lower risk and consistent returns.\n",
    "\n",
    "Risk-Return Profile:\n",
    "\n",
    "Annualized Average Return: showing that there is not that many changes in SPY; but BITW and BTC do.\n",
    "\n",
    "Sharpe Ratios: BTC has the higher sharpe ratio of 0.782 in comparison to Spy of 0.618 and BTC at 0.782.\n",
    "\n",
    "BITW has highest annual average return but has the lowerest sharpe ratios. therefore, BITW is the least attractive investment. Because the lower the sharpe ration the lower the return relative tot he risk that is taken by the investors\n",
    "\n",
    "Diversify: Having calculate the variance and covariance. the ave Beta for BITW is 0.041, compared to SPY beta of 1 which is because the baseline for the market volatility. stocks that have abeta that is larger than 1 tend to increase or decrease more than the market would. if a stock has a lower than 1 beta then the stock is less volatile than the market. However, this finding is for the last 30days and by looking at the news we can see that in January the BITW prices were around 30-31 and it is currently around the same price therefore it has not been that volatile compared to the market. however SPY has gone from 437 to 421 in the last 30 day therefore it has shown more volatility than BITW."
   ]
  }
 ],
 "metadata": {
  "kernelspec": {
   "display_name": "Python 3 (ipykernel)",
   "language": "python",
   "name": "python3"
  },
  "language_info": {
   "codemirror_mode": {
    "name": "ipython",
    "version": 3
   },
   "file_extension": ".py",
   "mimetype": "text/x-python",
   "name": "python",
   "nbconvert_exporter": "python",
   "pygments_lexer": "ipython3",
   "version": "3.7.11"
  }
 },
 "nbformat": 4,
 "nbformat_minor": 5
}
