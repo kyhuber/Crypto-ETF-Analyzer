{
 "cells": [
  {
   "cell_type": "code",
   "execution_count": null,
   "id": "41dde624-8887-4537-92ed-3f80fe4dd7e9",
   "metadata": {},
   "outputs": [],
   "source": [
    "# URL FOUND: https://blog.quantinsti.com/historical-market-data-python-api/\n",
    "# This might be so wrong, but this is in reference to the baseline SPY/S&P500"
   ]
  },
  {
   "cell_type": "code",
   "execution_count": null,
   "id": "148a9c37-a8d4-4350-8779-5acb79449ea5",
   "metadata": {},
   "outputs": [],
   "source": []
  }
 ],
 "metadata": {
  "kernelspec": {
   "display_name": "Python 3 (ipykernel)",
   "language": "python",
   "name": "python3"
  },
  "language_info": {
   "codemirror_mode": {
    "name": "ipython",
    "version": 3
   },
   "file_extension": ".py",
   "mimetype": "text/x-python",
   "name": "python",
   "nbconvert_exporter": "python",
   "pygments_lexer": "ipython3",
   "version": "3.9.7"
  }
 },
 "nbformat": 4,
 "nbformat_minor": 5
}
