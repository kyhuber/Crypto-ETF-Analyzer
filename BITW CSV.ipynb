{
 "cells": [
  {
   "cell_type": "code",
   "execution_count": 18,
   "id": "3ed7103a-74a9-42f2-9911-3cbf4cb6324b",
   "metadata": {},
   "outputs": [],
   "source": [
    "import pandas as pd\n",
    "from dotenv import load_dotenv\n",
    "from pathlib import Path\n",
    "import numpy as np\n",
    "import hvplot.pandas\n",
    "import csv"
   ]
  },
  {
   "cell_type": "code",
   "execution_count": 19,
   "id": "830e99ec-8dc8-47bf-9387-45cfef2f9017",
   "metadata": {},
   "outputs": [],
   "source": [
    "API_Key = 'A9HTPYBVOW6MI2HN'"
   ]
  },
  {
   "cell_type": "code",
   "execution_count": 23,
   "id": "67d01bde-8ff1-4842-ad98-5aac274f7817",
   "metadata": {},
   "outputs": [
    {
     "name": "stdout",
     "output_type": "stream",
     "text": [
      "             open    high    low  close  volume\n",
      "timestamp                                      \n",
      "2022-02-18  33.05  33.150  32.02  33.00   49753\n",
      "2022-02-17  34.16  34.250  32.25  33.40   57425\n",
      "2022-02-16  34.84  35.315  34.43  35.07   33082\n",
      "2022-02-15  35.50  35.880  34.46  34.87   49656\n",
      "2022-02-14  32.60  34.800  32.60  33.20   54090\n",
      "...           ...     ...    ...    ...     ...\n",
      "2020-10-21  12.00  12.000  12.00  12.00       0\n",
      "2020-10-20  12.00  12.000  12.00  12.00       0\n",
      "2020-10-19  12.00  12.000  12.00  12.00       0\n",
      "2020-10-16  12.00  12.000  12.00  12.00       0\n",
      "2020-10-15  12.00  12.000  12.00  12.00     100\n",
      "\n",
      "[340 rows x 5 columns]\n"
     ]
    }
   ],
   "source": [
    "#Stock API \n",
    "\n",
    "Ticker = ()\n",
    "\n",
    "BITW_api = pd.read_csv(f'https://www.alphavantage.co/query?function=TIME_SERIES_DAILY&symbol=bitw&apikey={API_Key}&datatype=csv&outputsize=full').set_index('timestamp')\n",
    "\n",
    "print(BITW_api)"
   ]
  },
  {
   "cell_type": "code",
   "execution_count": 32,
   "id": "3c6fad6f-0b6d-41df-9182-da4c1a61982e",
   "metadata": {},
   "outputs": [
    {
     "data": {
      "text/html": [
       "<div>\n",
       "<style scoped>\n",
       "    .dataframe tbody tr th:only-of-type {\n",
       "        vertical-align: middle;\n",
       "    }\n",
       "\n",
       "    .dataframe tbody tr th {\n",
       "        vertical-align: top;\n",
       "    }\n",
       "\n",
       "    .dataframe thead th {\n",
       "        text-align: right;\n",
       "    }\n",
       "</style>\n",
       "<table border=\"1\" class=\"dataframe\">\n",
       "  <thead>\n",
       "    <tr style=\"text-align: right;\">\n",
       "      <th></th>\n",
       "      <th>open</th>\n",
       "      <th>high</th>\n",
       "      <th>low</th>\n",
       "      <th>close</th>\n",
       "      <th>volume</th>\n",
       "    </tr>\n",
       "    <tr>\n",
       "      <th>timestamp</th>\n",
       "      <th></th>\n",
       "      <th></th>\n",
       "      <th></th>\n",
       "      <th></th>\n",
       "      <th></th>\n",
       "    </tr>\n",
       "  </thead>\n",
       "  <tbody>\n",
       "    <tr>\n",
       "      <th>2020-10-15</th>\n",
       "      <td>12.00</td>\n",
       "      <td>12.000</td>\n",
       "      <td>12.00</td>\n",
       "      <td>12.00</td>\n",
       "      <td>100</td>\n",
       "    </tr>\n",
       "    <tr>\n",
       "      <th>2020-10-16</th>\n",
       "      <td>12.00</td>\n",
       "      <td>12.000</td>\n",
       "      <td>12.00</td>\n",
       "      <td>12.00</td>\n",
       "      <td>0</td>\n",
       "    </tr>\n",
       "    <tr>\n",
       "      <th>2020-10-19</th>\n",
       "      <td>12.00</td>\n",
       "      <td>12.000</td>\n",
       "      <td>12.00</td>\n",
       "      <td>12.00</td>\n",
       "      <td>0</td>\n",
       "    </tr>\n",
       "    <tr>\n",
       "      <th>2020-10-20</th>\n",
       "      <td>12.00</td>\n",
       "      <td>12.000</td>\n",
       "      <td>12.00</td>\n",
       "      <td>12.00</td>\n",
       "      <td>0</td>\n",
       "    </tr>\n",
       "    <tr>\n",
       "      <th>2020-10-21</th>\n",
       "      <td>12.00</td>\n",
       "      <td>12.000</td>\n",
       "      <td>12.00</td>\n",
       "      <td>12.00</td>\n",
       "      <td>0</td>\n",
       "    </tr>\n",
       "    <tr>\n",
       "      <th>...</th>\n",
       "      <td>...</td>\n",
       "      <td>...</td>\n",
       "      <td>...</td>\n",
       "      <td>...</td>\n",
       "      <td>...</td>\n",
       "    </tr>\n",
       "    <tr>\n",
       "      <th>2022-02-14</th>\n",
       "      <td>32.60</td>\n",
       "      <td>34.800</td>\n",
       "      <td>32.60</td>\n",
       "      <td>33.20</td>\n",
       "      <td>54090</td>\n",
       "    </tr>\n",
       "    <tr>\n",
       "      <th>2022-02-15</th>\n",
       "      <td>35.50</td>\n",
       "      <td>35.880</td>\n",
       "      <td>34.46</td>\n",
       "      <td>34.87</td>\n",
       "      <td>49656</td>\n",
       "    </tr>\n",
       "    <tr>\n",
       "      <th>2022-02-16</th>\n",
       "      <td>34.84</td>\n",
       "      <td>35.315</td>\n",
       "      <td>34.43</td>\n",
       "      <td>35.07</td>\n",
       "      <td>33082</td>\n",
       "    </tr>\n",
       "    <tr>\n",
       "      <th>2022-02-17</th>\n",
       "      <td>34.16</td>\n",
       "      <td>34.250</td>\n",
       "      <td>32.25</td>\n",
       "      <td>33.40</td>\n",
       "      <td>57425</td>\n",
       "    </tr>\n",
       "    <tr>\n",
       "      <th>2022-02-18</th>\n",
       "      <td>33.05</td>\n",
       "      <td>33.150</td>\n",
       "      <td>32.02</td>\n",
       "      <td>33.00</td>\n",
       "      <td>49753</td>\n",
       "    </tr>\n",
       "  </tbody>\n",
       "</table>\n",
       "<p>340 rows × 5 columns</p>\n",
       "</div>"
      ],
      "text/plain": [
       "             open    high    low  close  volume\n",
       "timestamp                                      \n",
       "2020-10-15  12.00  12.000  12.00  12.00     100\n",
       "2020-10-16  12.00  12.000  12.00  12.00       0\n",
       "2020-10-19  12.00  12.000  12.00  12.00       0\n",
       "2020-10-20  12.00  12.000  12.00  12.00       0\n",
       "2020-10-21  12.00  12.000  12.00  12.00       0\n",
       "...           ...     ...    ...    ...     ...\n",
       "2022-02-14  32.60  34.800  32.60  33.20   54090\n",
       "2022-02-15  35.50  35.880  34.46  34.87   49656\n",
       "2022-02-16  34.84  35.315  34.43  35.07   33082\n",
       "2022-02-17  34.16  34.250  32.25  33.40   57425\n",
       "2022-02-18  33.05  33.150  32.02  33.00   49753\n",
       "\n",
       "[340 rows x 5 columns]"
      ]
     },
     "execution_count": 32,
     "metadata": {},
     "output_type": "execute_result"
    }
   ],
   "source": [
    "#a = df.sort_values(by ='Science', ascending = 0)\n",
    "descend_BITW_api = BITW_api.sort_values(by ='timestamp', ascending = 1)\n",
    "\n",
    "descend_BITW_api"
   ]
  },
  {
   "cell_type": "code",
   "execution_count": 24,
   "id": "99a325be-d965-4247-aff7-13d1c847c39b",
   "metadata": {},
   "outputs": [],
   "source": [
    "#header = [\"timestamp\",\"open\",\"high\",\"low\",\"close\",\"volume\"]\n",
    "#csvpath = Path(\"BITW_close_prices\")"
   ]
  },
  {
   "cell_type": "code",
   "execution_count": 25,
   "id": "d62e74e3-35b6-4275-aa07-6905abb5f6e4",
   "metadata": {},
   "outputs": [
    {
     "ename": "TypeError",
     "evalue": "'numpy.ndarray' object is not callable",
     "output_type": "error",
     "traceback": [
      "\u001b[1;31m---------------------------------------------------------------------------\u001b[0m",
      "\u001b[1;31mTypeError\u001b[0m                                 Traceback (most recent call last)",
      "\u001b[1;32m~\\AppData\\Local\\Temp/ipykernel_11304/1963683487.py\u001b[0m in \u001b[0;36m<module>\u001b[1;34m\u001b[0m\n\u001b[0;32m      3\u001b[0m     \u001b[0mcsvwriter\u001b[0m\u001b[1;33m.\u001b[0m\u001b[0mwriterow\u001b[0m\u001b[1;33m(\u001b[0m\u001b[0mheader\u001b[0m\u001b[1;33m)\u001b[0m\u001b[1;33m\u001b[0m\u001b[1;33m\u001b[0m\u001b[0m\n\u001b[0;32m      4\u001b[0m     \u001b[1;32mfor\u001b[0m \u001b[0mclose\u001b[0m \u001b[1;32min\u001b[0m \u001b[0mBITW_api\u001b[0m\u001b[1;33m:\u001b[0m\u001b[1;33m\u001b[0m\u001b[1;33m\u001b[0m\u001b[0m\n\u001b[1;32m----> 5\u001b[1;33m         \u001b[0mcsvwriter\u001b[0m\u001b[1;33m.\u001b[0m\u001b[0mwriterow\u001b[0m\u001b[1;33m(\u001b[0m\u001b[0mBITW_api\u001b[0m\u001b[1;33m.\u001b[0m\u001b[0mvalues\u001b[0m\u001b[1;33m(\u001b[0m\u001b[1;33m)\u001b[0m\u001b[1;33m)\u001b[0m\u001b[1;33m\u001b[0m\u001b[1;33m\u001b[0m\u001b[0m\n\u001b[0m",
      "\u001b[1;31mTypeError\u001b[0m: 'numpy.ndarray' object is not callable"
     ]
    }
   ],
   "source": [
    "#with open(csvpath, \"w\", newline=\"\") as csvfile:\n",
    "#    csvwriter = csv.writer(csvfile)\n",
    " #   csvwriter.writerow(header)\n",
    "  #  for close in BITW_api:\n",
    "   #     csvwriter.writerow(BITW_api.values())"
   ]
  },
  {
   "cell_type": "code",
   "execution_count": 34,
   "id": "64f071f6-4ce8-4acb-9fe8-8ae2380b3eef",
   "metadata": {},
   "outputs": [
    {
     "data": {},
     "metadata": {},
     "output_type": "display_data"
    },
    {
     "data": {
      "application/vnd.holoviews_exec.v0+json": "",
      "text/html": [
       "<div id='1784'>\n",
       "\n",
       "\n",
       "\n",
       "\n",
       "\n",
       "  <div class=\"bk-root\" id=\"951343aa-6eb0-459c-bf8e-b30d2fa16209\" data-root-id=\"1784\"></div>\n",
       "</div>\n",
       "<script type=\"application/javascript\">(function(root) {\n",
       "  function embed_document(root) {\n",
       "    var docs_json = {\"b755b0a9-16f9-4171-afb3-851b3349acc1\":{\"defs\":[{\"extends\":null,\"module\":null,\"name\":\"ReactiveHTML1\",\"overrides\":[],\"properties\":[]},{\"extends\":null,\"module\":null,\"name\":\"FlexBox1\",\"overrides\":[],\"properties\":[{\"default\":\"flex-start\",\"kind\":null,\"name\":\"align_content\"},{\"default\":\"flex-start\",\"kind\":null,\"name\":\"align_items\"},{\"default\":\"row\",\"kind\":null,\"name\":\"flex_direction\"},{\"default\":\"wrap\",\"kind\":null,\"name\":\"flex_wrap\"},{\"default\":\"flex-start\",\"kind\":null,\"name\":\"justify_content\"}]},{\"extends\":null,\"module\":null,\"name\":\"TemplateActions1\",\"overrides\":[],\"properties\":[{\"default\":0,\"kind\":null,\"name\":\"open_modal\"},{\"default\":0,\"kind\":null,\"name\":\"close_modal\"}]},{\"extends\":null,\"module\":null,\"name\":\"MaterialTemplateActions1\",\"overrides\":[],\"properties\":[{\"default\":0,\"kind\":null,\"name\":\"open_modal\"},{\"default\":0,\"kind\":null,\"name\":\"close_modal\"}]}],\"roots\":{\"references\":[{\"attributes\":{\"bottom_units\":\"screen\",\"coordinates\":null,\"fill_alpha\":0.5,\"fill_color\":\"lightgrey\",\"group\":null,\"left_units\":\"screen\",\"level\":\"overlay\",\"line_alpha\":1.0,\"line_color\":\"black\",\"line_dash\":[4,4],\"line_width\":2,\"right_units\":\"screen\",\"syncable\":false,\"top_units\":\"screen\"},\"id\":\"1810\",\"type\":\"BoxAnnotation\"},{\"attributes\":{\"coordinates\":null,\"group\":null,\"text_color\":\"black\",\"text_font_size\":\"12pt\"},\"id\":\"1790\",\"type\":\"Title\"},{\"attributes\":{},\"id\":\"1832\",\"type\":\"AllLabels\"},{\"attributes\":{\"coordinates\":null,\"data_source\":{\"id\":\"1818\"},\"glyph\":{\"id\":\"1821\"},\"group\":null,\"hover_glyph\":null,\"muted_glyph\":{\"id\":\"1823\"},\"nonselection_glyph\":{\"id\":\"1822\"},\"selection_glyph\":{\"id\":\"1826\"},\"view\":{\"id\":\"1825\"}},\"id\":\"1824\",\"type\":\"GlyphRenderer\"},{\"attributes\":{\"line_alpha\":0.2,\"line_color\":\"#30a2da\",\"line_width\":2,\"x\":{\"field\":\"timestamp\"},\"y\":{\"field\":\"close\"}},\"id\":\"1823\",\"type\":\"Line\"},{\"attributes\":{\"tools\":[{\"id\":\"1788\"},{\"id\":\"1805\"},{\"id\":\"1806\"},{\"id\":\"1807\"},{\"id\":\"1808\"},{\"id\":\"1809\"}]},\"id\":\"1811\",\"type\":\"Toolbar\"},{\"attributes\":{\"axis_label\":\"timestamp\",\"coordinates\":null,\"formatter\":{\"id\":\"1828\"},\"group\":null,\"major_label_policy\":{\"id\":\"1829\"},\"ticker\":{\"id\":\"1799\"}},\"id\":\"1798\",\"type\":\"CategoricalAxis\"},{\"attributes\":{\"children\":[{\"id\":\"1785\"},{\"id\":\"1789\"},{\"id\":\"1853\"}],\"margin\":[0,0,0,0],\"name\":\"Row03115\",\"tags\":[\"embedded\"]},\"id\":\"1784\",\"type\":\"Row\"},{\"attributes\":{},\"id\":\"1805\",\"type\":\"SaveTool\"},{\"attributes\":{},\"id\":\"1819\",\"type\":\"Selection\"},{\"attributes\":{\"source\":{\"id\":\"1818\"}},\"id\":\"1825\",\"type\":\"CDSView\"},{\"attributes\":{\"callback\":null,\"renderers\":[{\"id\":\"1824\"}],\"tags\":[\"hv_created\"],\"tooltips\":[[\"timestamp\",\"@{timestamp}\"],[\"close\",\"@{close}\"]]},\"id\":\"1788\",\"type\":\"HoverTool\"},{\"attributes\":{},\"id\":\"1806\",\"type\":\"PanTool\"},{\"attributes\":{},\"id\":\"1809\",\"type\":\"ResetTool\"},{\"attributes\":{},\"id\":\"1829\",\"type\":\"AllLabels\"},{\"attributes\":{},\"id\":\"1807\",\"type\":\"WheelZoomTool\"},{\"attributes\":{\"overlay\":{\"id\":\"1810\"}},\"id\":\"1808\",\"type\":\"BoxZoomTool\"},{\"attributes\":{},\"id\":\"1828\",\"type\":\"CategoricalTickFormatter\"},{\"attributes\":{\"factors\":[\"2020-10-15\",\"2020-10-16\",\"2020-10-19\",\"2020-10-20\",\"2020-10-21\",\"2020-10-22\",\"2020-10-23\",\"2020-10-26\",\"2020-10-27\",\"2020-10-28\",\"2020-10-29\",\"2020-10-30\",\"2020-11-02\",\"2020-11-03\",\"2020-11-04\",\"2020-11-05\",\"2020-11-06\",\"2020-11-09\",\"2020-11-10\",\"2020-11-11\",\"2020-11-12\",\"2020-11-13\",\"2020-11-16\",\"2020-11-17\",\"2020-11-18\",\"2020-11-19\",\"2020-11-20\",\"2020-11-23\",\"2020-11-24\",\"2020-11-25\",\"2020-11-27\",\"2020-11-30\",\"2020-12-01\",\"2020-12-02\",\"2020-12-03\",\"2020-12-04\",\"2020-12-07\",\"2020-12-08\",\"2020-12-09\",\"2020-12-10\",\"2020-12-11\",\"2020-12-14\",\"2020-12-15\",\"2020-12-16\",\"2020-12-17\",\"2020-12-18\",\"2020-12-21\",\"2020-12-22\",\"2020-12-23\",\"2020-12-24\",\"2020-12-28\",\"2020-12-29\",\"2020-12-30\",\"2020-12-31\",\"2021-01-04\",\"2021-01-05\",\"2021-01-06\",\"2021-01-07\",\"2021-01-08\",\"2021-01-11\",\"2021-01-12\",\"2021-01-13\",\"2021-01-14\",\"2021-01-15\",\"2021-01-19\",\"2021-01-20\",\"2021-01-21\",\"2021-01-22\",\"2021-01-25\",\"2021-01-26\",\"2021-01-27\",\"2021-01-28\",\"2021-01-29\",\"2021-02-01\",\"2021-02-02\",\"2021-02-03\",\"2021-02-04\",\"2021-02-05\",\"2021-02-08\",\"2021-02-09\",\"2021-02-10\",\"2021-02-11\",\"2021-02-12\",\"2021-02-16\",\"2021-02-17\",\"2021-02-18\",\"2021-02-19\",\"2021-02-22\",\"2021-02-23\",\"2021-02-24\",\"2021-02-25\",\"2021-02-26\",\"2021-03-01\",\"2021-03-02\",\"2021-03-03\",\"2021-03-04\",\"2021-03-05\",\"2021-03-08\",\"2021-03-09\",\"2021-03-10\",\"2021-03-11\",\"2021-03-12\",\"2021-03-15\",\"2021-03-16\",\"2021-03-17\",\"2021-03-18\",\"2021-03-19\",\"2021-03-22\",\"2021-03-23\",\"2021-03-24\",\"2021-03-25\",\"2021-03-26\",\"2021-03-29\",\"2021-03-30\",\"2021-03-31\",\"2021-04-01\",\"2021-04-05\",\"2021-04-06\",\"2021-04-07\",\"2021-04-08\",\"2021-04-09\",\"2021-04-12\",\"2021-04-13\",\"2021-04-14\",\"2021-04-15\",\"2021-04-16\",\"2021-04-19\",\"2021-04-20\",\"2021-04-21\",\"2021-04-22\",\"2021-04-23\",\"2021-04-26\",\"2021-04-27\",\"2021-04-28\",\"2021-04-29\",\"2021-04-30\",\"2021-05-03\",\"2021-05-04\",\"2021-05-05\",\"2021-05-06\",\"2021-05-07\",\"2021-05-10\",\"2021-05-11\",\"2021-05-12\",\"2021-05-13\",\"2021-05-14\",\"2021-05-17\",\"2021-05-18\",\"2021-05-19\",\"2021-05-20\",\"2021-05-21\",\"2021-05-24\",\"2021-05-25\",\"2021-05-26\",\"2021-05-27\",\"2021-05-28\",\"2021-06-01\",\"2021-06-02\",\"2021-06-03\",\"2021-06-04\",\"2021-06-07\",\"2021-06-08\",\"2021-06-09\",\"2021-06-10\",\"2021-06-11\",\"2021-06-14\",\"2021-06-15\",\"2021-06-16\",\"2021-06-17\",\"2021-06-18\",\"2021-06-21\",\"2021-06-22\",\"2021-06-23\",\"2021-06-24\",\"2021-06-25\",\"2021-06-28\",\"2021-06-29\",\"2021-06-30\",\"2021-07-01\",\"2021-07-02\",\"2021-07-06\",\"2021-07-07\",\"2021-07-08\",\"2021-07-09\",\"2021-07-12\",\"2021-07-13\",\"2021-07-14\",\"2021-07-15\",\"2021-07-16\",\"2021-07-19\",\"2021-07-20\",\"2021-07-21\",\"2021-07-22\",\"2021-07-23\",\"2021-07-26\",\"2021-07-27\",\"2021-07-28\",\"2021-07-29\",\"2021-07-30\",\"2021-08-02\",\"2021-08-03\",\"2021-08-04\",\"2021-08-05\",\"2021-08-06\",\"2021-08-09\",\"2021-08-10\",\"2021-08-11\",\"2021-08-12\",\"2021-08-13\",\"2021-08-16\",\"2021-08-17\",\"2021-08-18\",\"2021-08-19\",\"2021-08-20\",\"2021-08-23\",\"2021-08-24\",\"2021-08-25\",\"2021-08-26\",\"2021-08-27\",\"2021-08-30\",\"2021-08-31\",\"2021-09-01\",\"2021-09-02\",\"2021-09-03\",\"2021-09-07\",\"2021-09-08\",\"2021-09-09\",\"2021-09-10\",\"2021-09-13\",\"2021-09-14\",\"2021-09-15\",\"2021-09-16\",\"2021-09-17\",\"2021-09-20\",\"2021-09-21\",\"2021-09-22\",\"2021-09-23\",\"2021-09-24\",\"2021-09-27\",\"2021-09-28\",\"2021-09-29\",\"2021-09-30\",\"2021-10-01\",\"2021-10-04\",\"2021-10-05\",\"2021-10-06\",\"2021-10-07\",\"2021-10-08\",\"2021-10-11\",\"2021-10-12\",\"2021-10-13\",\"2021-10-14\",\"2021-10-15\",\"2021-10-18\",\"2021-10-19\",\"2021-10-20\",\"2021-10-21\",\"2021-10-22\",\"2021-10-25\",\"2021-10-26\",\"2021-10-27\",\"2021-10-28\",\"2021-10-29\",\"2021-11-01\",\"2021-11-02\",\"2021-11-03\",\"2021-11-04\",\"2021-11-05\",\"2021-11-08\",\"2021-11-09\",\"2021-11-10\",\"2021-11-11\",\"2021-11-12\",\"2021-11-15\",\"2021-11-16\",\"2021-11-17\",\"2021-11-18\",\"2021-11-19\",\"2021-11-22\",\"2021-11-23\",\"2021-11-24\",\"2021-11-26\",\"2021-11-29\",\"2021-11-30\",\"2021-12-01\",\"2021-12-02\",\"2021-12-03\",\"2021-12-06\",\"2021-12-07\",\"2021-12-08\",\"2021-12-09\",\"2021-12-10\",\"2021-12-13\",\"2021-12-14\",\"2021-12-15\",\"2021-12-16\",\"2021-12-17\",\"2021-12-20\",\"2021-12-21\",\"2021-12-22\",\"2021-12-23\",\"2021-12-27\",\"2021-12-28\",\"2021-12-29\",\"2021-12-30\",\"2021-12-31\",\"2022-01-03\",\"2022-01-04\",\"2022-01-05\",\"2022-01-06\",\"2022-01-07\",\"2022-01-10\",\"2022-01-11\",\"2022-01-12\",\"2022-01-13\",\"2022-01-14\",\"2022-01-18\",\"2022-01-19\",\"2022-01-20\",\"2022-01-21\",\"2022-01-24\",\"2022-01-25\",\"2022-01-26\",\"2022-01-27\",\"2022-01-28\",\"2022-01-31\",\"2022-02-01\",\"2022-02-02\",\"2022-02-03\",\"2022-02-04\",\"2022-02-07\",\"2022-02-08\",\"2022-02-09\",\"2022-02-10\",\"2022-02-11\",\"2022-02-14\",\"2022-02-15\",\"2022-02-16\",\"2022-02-17\",\"2022-02-18\"],\"tags\":[[[\"timestamp\",\"timestamp\",null]]]},\"id\":\"1786\",\"type\":\"FactorRange\"},{\"attributes\":{\"data\":{\"close\":{\"__ndarray__\":\"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\",\"dtype\":\"float64\",\"order\":\"little\",\"shape\":[340]},\"timestamp\":[\"2020-10-15\",\"2020-10-16\",\"2020-10-19\",\"2020-10-20\",\"2020-10-21\",\"2020-10-22\",\"2020-10-23\",\"2020-10-26\",\"2020-10-27\",\"2020-10-28\",\"2020-10-29\",\"2020-10-30\",\"2020-11-02\",\"2020-11-03\",\"2020-11-04\",\"2020-11-05\",\"2020-11-06\",\"2020-11-09\",\"2020-11-10\",\"2020-11-11\",\"2020-11-12\",\"2020-11-13\",\"2020-11-16\",\"2020-11-17\",\"2020-11-18\",\"2020-11-19\",\"2020-11-20\",\"2020-11-23\",\"2020-11-24\",\"2020-11-25\",\"2020-11-27\",\"2020-11-30\",\"2020-12-01\",\"2020-12-02\",\"2020-12-03\",\"2020-12-04\",\"2020-12-07\",\"2020-12-08\",\"2020-12-09\",\"2020-12-10\",\"2020-12-11\",\"2020-12-14\",\"2020-12-15\",\"2020-12-16\",\"2020-12-17\",\"2020-12-18\",\"2020-12-21\",\"2020-12-22\",\"2020-12-23\",\"2020-12-24\",\"2020-12-28\",\"2020-12-29\",\"2020-12-30\",\"2020-12-31\",\"2021-01-04\",\"2021-01-05\",\"2021-01-06\",\"2021-01-07\",\"2021-01-08\",\"2021-01-11\",\"2021-01-12\",\"2021-01-13\",\"2021-01-14\",\"2021-01-15\",\"2021-01-19\",\"2021-01-20\",\"2021-01-21\",\"2021-01-22\",\"2021-01-25\",\"2021-01-26\",\"2021-01-27\",\"2021-01-28\",\"2021-01-29\",\"2021-02-01\",\"2021-02-02\",\"2021-02-03\",\"2021-02-04\",\"2021-02-05\",\"2021-02-08\",\"2021-02-09\",\"2021-02-10\",\"2021-02-11\",\"2021-02-12\",\"2021-02-16\",\"2021-02-17\",\"2021-02-18\",\"2021-02-19\",\"2021-02-22\",\"2021-02-23\",\"2021-02-24\",\"2021-02-25\",\"2021-02-26\",\"2021-03-01\",\"2021-03-02\",\"2021-03-03\",\"2021-03-04\",\"2021-03-05\",\"2021-03-08\",\"2021-03-09\",\"2021-03-10\",\"2021-03-11\",\"2021-03-12\",\"2021-03-15\",\"2021-03-16\",\"2021-03-17\",\"2021-03-18\",\"2021-03-19\",\"2021-03-22\",\"2021-03-23\",\"2021-03-24\",\"2021-03-25\",\"2021-03-26\",\"2021-03-29\",\"2021-03-30\",\"2021-03-31\",\"2021-04-01\",\"2021-04-05\",\"2021-04-06\",\"2021-04-07\",\"2021-04-08\",\"2021-04-09\",\"2021-04-12\",\"2021-04-13\",\"2021-04-14\",\"2021-04-15\",\"2021-04-16\",\"2021-04-19\",\"2021-04-20\",\"2021-04-21\",\"2021-04-22\",\"2021-04-23\",\"2021-04-26\",\"2021-04-27\",\"2021-04-28\",\"2021-04-29\",\"2021-04-30\",\"2021-05-03\",\"2021-05-04\",\"2021-05-05\",\"2021-05-06\",\"2021-05-07\",\"2021-05-10\",\"2021-05-11\",\"2021-05-12\",\"2021-05-13\",\"2021-05-14\",\"2021-05-17\",\"2021-05-18\",\"2021-05-19\",\"2021-05-20\",\"2021-05-21\",\"2021-05-24\",\"2021-05-25\",\"2021-05-26\",\"2021-05-27\",\"2021-05-28\",\"2021-06-01\",\"2021-06-02\",\"2021-06-03\",\"2021-06-04\",\"2021-06-07\",\"2021-06-08\",\"2021-06-09\",\"2021-06-10\",\"2021-06-11\",\"2021-06-14\",\"2021-06-15\",\"2021-06-16\",\"2021-06-17\",\"2021-06-18\",\"2021-06-21\",\"2021-06-22\",\"2021-06-23\",\"2021-06-24\",\"2021-06-25\",\"2021-06-28\",\"2021-06-29\",\"2021-06-30\",\"2021-07-01\",\"2021-07-02\",\"2021-07-06\",\"2021-07-07\",\"2021-07-08\",\"2021-07-09\",\"2021-07-12\",\"2021-07-13\",\"2021-07-14\",\"2021-07-15\",\"2021-07-16\",\"2021-07-19\",\"2021-07-20\",\"2021-07-21\",\"2021-07-22\",\"2021-07-23\",\"2021-07-26\",\"2021-07-27\",\"2021-07-28\",\"2021-07-29\",\"2021-07-30\",\"2021-08-02\",\"2021-08-03\",\"2021-08-04\",\"2021-08-05\",\"2021-08-06\",\"2021-08-09\",\"2021-08-10\",\"2021-08-11\",\"2021-08-12\",\"2021-08-13\",\"2021-08-16\",\"2021-08-17\",\"2021-08-18\",\"2021-08-19\",\"2021-08-20\",\"2021-08-23\",\"2021-08-24\",\"2021-08-25\",\"2021-08-26\",\"2021-08-27\",\"2021-08-30\",\"2021-08-31\",\"2021-09-01\",\"2021-09-02\",\"2021-09-03\",\"2021-09-07\",\"2021-09-08\",\"2021-09-09\",\"2021-09-10\",\"2021-09-13\",\"2021-09-14\",\"2021-09-15\",\"2021-09-16\",\"2021-09-17\",\"2021-09-20\",\"2021-09-21\",\"2021-09-22\",\"2021-09-23\",\"2021-09-24\",\"2021-09-27\",\"2021-09-28\",\"2021-09-29\",\"2021-09-30\",\"2021-10-01\",\"2021-10-04\",\"2021-10-05\",\"2021-10-06\",\"2021-10-07\",\"2021-10-08\",\"2021-10-11\",\"2021-10-12\",\"2021-10-13\",\"2021-10-14\",\"2021-10-15\",\"2021-10-18\",\"2021-10-19\",\"2021-10-20\",\"2021-10-21\",\"2021-10-22\",\"2021-10-25\",\"2021-10-26\",\"2021-10-27\",\"2021-10-28\",\"2021-10-29\",\"2021-11-01\",\"2021-11-02\",\"2021-11-03\",\"2021-11-04\",\"2021-11-05\",\"2021-11-08\",\"2021-11-09\",\"2021-11-10\",\"2021-11-11\",\"2021-11-12\",\"2021-11-15\",\"2021-11-16\",\"2021-11-17\",\"2021-11-18\",\"2021-11-19\",\"2021-11-22\",\"2021-11-23\",\"2021-11-24\",\"2021-11-26\",\"2021-11-29\",\"2021-11-30\",\"2021-12-01\",\"2021-12-02\",\"2021-12-03\",\"2021-12-06\",\"2021-12-07\",\"2021-12-08\",\"2021-12-09\",\"2021-12-10\",\"2021-12-13\",\"2021-12-14\",\"2021-12-15\",\"2021-12-16\",\"2021-12-17\",\"2021-12-20\",\"2021-12-21\",\"2021-12-22\",\"2021-12-23\",\"2021-12-27\",\"2021-12-28\",\"2021-12-29\",\"2021-12-30\",\"2021-12-31\",\"2022-01-03\",\"2022-01-04\",\"2022-01-05\",\"2022-01-06\",\"2022-01-07\",\"2022-01-10\",\"2022-01-11\",\"2022-01-12\",\"2022-01-13\",\"2022-01-14\",\"2022-01-18\",\"2022-01-19\",\"2022-01-20\",\"2022-01-21\",\"2022-01-24\",\"2022-01-25\",\"2022-01-26\",\"2022-01-27\",\"2022-01-28\",\"2022-01-31\",\"2022-02-01\",\"2022-02-02\",\"2022-02-03\",\"2022-02-04\",\"2022-02-07\",\"2022-02-08\",\"2022-02-09\",\"2022-02-10\",\"2022-02-11\",\"2022-02-14\",\"2022-02-15\",\"2022-02-16\",\"2022-02-17\",\"2022-02-18\"]},\"selected\":{\"id\":\"1819\"},\"selection_policy\":{\"id\":\"1840\"}},\"id\":\"1818\",\"type\":\"ColumnDataSource\"},{\"attributes\":{},\"id\":\"1794\",\"type\":\"CategoricalScale\"},{\"attributes\":{},\"id\":\"1840\",\"type\":\"UnionRenderers\"},{\"attributes\":{\"axis\":{\"id\":\"1798\"},\"coordinates\":null,\"grid_line_color\":null,\"group\":null,\"ticker\":null},\"id\":\"1800\",\"type\":\"Grid\"},{\"attributes\":{\"line_color\":\"#30a2da\",\"line_width\":2,\"x\":{\"field\":\"timestamp\"},\"y\":{\"field\":\"close\"}},\"id\":\"1821\",\"type\":\"Line\"},{\"attributes\":{\"end\":151.71099999999998,\"reset_end\":151.71099999999998,\"reset_start\":-0.7010000000000005,\"start\":-0.7010000000000005,\"tags\":[[[\"close\",\"close\",null]]]},\"id\":\"1787\",\"type\":\"Range1d\"},{\"attributes\":{},\"id\":\"1796\",\"type\":\"LinearScale\"},{\"attributes\":{\"margin\":[5,5,5,5],\"name\":\"HSpacer03119\",\"sizing_mode\":\"stretch_width\"},\"id\":\"1785\",\"type\":\"Spacer\"},{\"attributes\":{},\"id\":\"1802\",\"type\":\"BasicTicker\"},{\"attributes\":{},\"id\":\"1831\",\"type\":\"BasicTickFormatter\"},{\"attributes\":{},\"id\":\"1799\",\"type\":\"CategoricalTicker\"},{\"attributes\":{\"axis_label\":\"close\",\"coordinates\":null,\"formatter\":{\"id\":\"1831\"},\"group\":null,\"major_label_policy\":{\"id\":\"1832\"},\"ticker\":{\"id\":\"1802\"}},\"id\":\"1801\",\"type\":\"LinearAxis\"},{\"attributes\":{\"axis\":{\"id\":\"1801\"},\"coordinates\":null,\"dimension\":1,\"grid_line_color\":null,\"group\":null,\"ticker\":null},\"id\":\"1804\",\"type\":\"Grid\"},{\"attributes\":{\"line_color\":\"#30a2da\",\"line_width\":2,\"x\":{\"field\":\"timestamp\"},\"y\":{\"field\":\"close\"}},\"id\":\"1826\",\"type\":\"Line\"},{\"attributes\":{\"margin\":[5,5,5,5],\"name\":\"HSpacer03120\",\"sizing_mode\":\"stretch_width\"},\"id\":\"1853\",\"type\":\"Spacer\"},{\"attributes\":{\"below\":[{\"id\":\"1798\"}],\"center\":[{\"id\":\"1800\"},{\"id\":\"1804\"}],\"height\":300,\"left\":[{\"id\":\"1801\"}],\"margin\":[5,5,5,5],\"min_border_bottom\":10,\"min_border_left\":10,\"min_border_right\":10,\"min_border_top\":10,\"renderers\":[{\"id\":\"1824\"}],\"sizing_mode\":\"fixed\",\"title\":{\"id\":\"1790\"},\"toolbar\":{\"id\":\"1811\"},\"width\":700,\"x_range\":{\"id\":\"1786\"},\"x_scale\":{\"id\":\"1794\"},\"y_range\":{\"id\":\"1787\"},\"y_scale\":{\"id\":\"1796\"}},\"id\":\"1789\",\"subtype\":\"Figure\",\"type\":\"Plot\"},{\"attributes\":{\"line_alpha\":0.1,\"line_color\":\"#30a2da\",\"line_width\":2,\"x\":{\"field\":\"timestamp\"},\"y\":{\"field\":\"close\"}},\"id\":\"1822\",\"type\":\"Line\"}],\"root_ids\":[\"1784\"]},\"title\":\"Bokeh Application\",\"version\":\"2.4.2\"}};\n",
       "    var render_items = [{\"docid\":\"b755b0a9-16f9-4171-afb3-851b3349acc1\",\"root_ids\":[\"1784\"],\"roots\":{\"1784\":\"951343aa-6eb0-459c-bf8e-b30d2fa16209\"}}];\n",
       "    root.Bokeh.embed.embed_items_notebook(docs_json, render_items);\n",
       "  }\n",
       "  if (root.Bokeh !== undefined && root.Bokeh.Panel !== undefined) {\n",
       "    embed_document(root);\n",
       "  } else {\n",
       "    var attempts = 0;\n",
       "    var timer = setInterval(function(root) {\n",
       "      if (root.Bokeh !== undefined && root.Bokeh.Panel !== undefined) {\n",
       "        clearInterval(timer);\n",
       "        embed_document(root);\n",
       "      } else if (document.readyState == \"complete\") {\n",
       "        attempts++;\n",
       "        if (attempts > 200) {\n",
       "          clearInterval(timer);\n",
       "          console.log(\"Bokeh: ERROR: Unable to run BokehJS code because BokehJS library is missing\");\n",
       "        }\n",
       "      }\n",
       "    }, 25, root)\n",
       "  }\n",
       "})(window);</script>"
      ],
      "text/plain": [
       ":Curve   [timestamp]   (close)"
      ]
     },
     "execution_count": 34,
     "metadata": {
      "application/vnd.holoviews_exec.v0+json": {
       "id": "1784"
      }
     },
     "output_type": "execute_result"
    }
   ],
   "source": [
    "descend_BITW_api.hvplot.line(x=\"timestamp\",y=\"close\")"
   ]
  },
  {
   "cell_type": "code",
   "execution_count": null,
   "id": "1f7a5d55-bf86-445a-92dd-7262c48a53cc",
   "metadata": {},
   "outputs": [],
   "source": []
  }
 ],
 "metadata": {
  "kernelspec": {
   "display_name": "Python 3 (ipykernel)",
   "language": "python",
   "name": "python3"
  },
  "language_info": {
   "codemirror_mode": {
    "name": "ipython",
    "version": 3
   },
   "file_extension": ".py",
   "mimetype": "text/x-python",
   "name": "python",
   "nbconvert_exporter": "python",
   "pygments_lexer": "ipython3",
   "version": "3.9.7"
  }
 },
 "nbformat": 4,
 "nbformat_minor": 5
}
