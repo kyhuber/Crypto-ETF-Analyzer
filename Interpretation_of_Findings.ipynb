{
 "cells": [
  {
   "cell_type": "markdown",
   "id": "0e12e63d-381b-4cce-9d9d-ccf655ecadc2",
   "metadata": {},
   "source": [
    "# Interpretation of Findings"
   ]
  },
  {
   "cell_type": "markdown",
   "id": "8fd19cef-0624-4c70-9c55-f412284928cd",
   "metadata": {},
   "source": [
    "\n",
    "The Crypto ETF Analyzer performs financial calculations to analyze Risk and Reward for Cryptocurrency BTC and Crypto ETF BITF against the S&P500. \n",
    "It also performs financial analysis for portfolios of SPY/ETF and SPY/BTC. \n",
    "Finally, the Monte Carlo Simulation is programmed to predict a 1 year cumulative portfolio return.\n",
    "\n",
    "Analyzing the *Performance* of the SPY, BITW and BTC portfolio, the application takes the daily closing price of each \n",
    "asset class and calculates the percentage change to determine the daily returns; and provides a statistics summary.\n",
    "\n",
    "The *Statistic Summary* concludes that out of 343 trading days, the average daily returns in this portfolio are:\n",
    "SPY = .000716, BITW = .007953 and BTC = .004718\n",
    "\n",
    "From the plot visualization, SPY as the benchmark is stable and daily returns consistant. But, BITW has huge returns during the end of 2020 just after\n",
    "it's IPO. Then, it stabilazed throughout 2021 into 2022.\n",
    "\n",
    "Next, *Cumulative Returns*: In december of 2020, BITW cumulative return was the higher of than SPY and BITW. By July of 2021, BITW's cumulative return\n",
    "decreased in correlation with BTC. after July, BTC cumulative return increased above that of BITW. The are positively coorelate hoever the amount \n",
    "of increase and or decrease varies. Currently, BTC has the higher cumulative return.\n",
    "\n",
    "Volatily: BITW has the most volatility, has larger wedges and more outliers.\n",
    "\n",
    "Risk: BITW has the highest annualized standard deviation of 1.91; BTC is .760 and spy is .146. Therefore, BITW is the most riskiest investment choice.\n",
    "\n",
    "Looking at the visualiztion, in Dec. 2020, BITW was most volitale. After 4/21, BITW STD dev decrease and became closer to the BTC std showing that\n",
    "both BITW and BTC closer in risk.\n",
    "\n",
    "SPY has consistant annualized standard deviation; and has lower risk and consistent returns.\n",
    "\n",
    "**Risk-Return Profile**\n",
    "\n",
    "*Annualized Average Return:* showing that there is not that many changes in SPY; but BITW and BTC do.\n",
    "\n",
    "*Sharpe Ratios:* BTC has the higher sharpe ratio of 0.782 in comparison to Spy of 0.618 and BTC at 0.782. BITW has highest annual average return\n",
    "but has the lowerest sharpe ratios. therefore, BITW is the least attractive investment. Because the lower the sharpe ration the lower the return \n",
    "relative tot he risk that is taken by the investors\n",
    "\n",
    "*Diversify:* Having calculate the variance and covariance. the ave Beta for BITW is 0.041, compared to SPY beta of 1 which is because the baseline \n",
    "for the market volatility. Stocks that have a beta that is larger than 1 tend to increase or decrease more than the market would. If a stock has a \n",
    "lower than 1 beta then the stock is less volatile than the market. \n",
    "\n",
    "However, this finding is for the last 30 days. And currently, we can see that in January the BITW prices were around 30-31; it is \n",
    "currently around the same price. Therefore, it has not been that volatile compared to the market. However, SPY has decreased from 437 to 421 in \n",
    "the last 30 day; therefore, it has shown more volatility than BITW.\n",
    "\n",
    "**Monte Carlo Simulation**\n",
    "\n",
    "*3yr*\n",
    "SPY and ETF Porfolio 40:60 allocation\n",
    "Result: if you contributed to this portfolio; then for 100 dollar investment, it would grow to $3159.69.\n",
    "\n",
    "*3yr*\n",
    "SPY and BTC Porfolio 40:60 allocation\n",
    "Result:  if you contributed to this portfolio; then for 100 dollar investment, it would grow to $625.80."
     "\n",
    "*10yr*\n",
    "SPY and ETF Porfolio 40:60 allocation\n",
    "Result: if you contributed to this portfolio; then for 100 dollar investment, it would grow to $5387610.96.\n",
    "\n",
    "*3yr*\n",
    "SPY and BTC Porfolio 40:60 allocation\n",
    "Result:  if you contributed to this portfolio; then for 100 dollar investment, it would grow to $42026.63."
   ]
  },
  {
   "cell_type": "code",
   "execution_count": null,
   "id": "804bf0d3-0c34-4595-b008-355a0d44d6b9",
   "metadata": {},
   "outputs": [],
   "source": []
  },
  {
   "cell_type": "code",
   "execution_count": null,
   "id": "66694a90-828f-4e4b-baa6-e7933c1558ad",
   "metadata": {},
   "outputs": [],
   "source": []
  }
 ],
 "metadata": {
  "kernelspec": {
   "display_name": "Python 3 (ipykernel)",
   "language": "python",
   "name": "python3"
  },
  "language_info": {
   "codemirror_mode": {
    "name": "ipython",
    "version": 3
   },
   "file_extension": ".py",
   "mimetype": "text/x-python",
   "name": "python",
   "nbconvert_exporter": "python",
   "pygments_lexer": "ipython3",
   "version": "3.7.11"
  }
 },
 "nbformat": 4,
 "nbformat_minor": 5
}
