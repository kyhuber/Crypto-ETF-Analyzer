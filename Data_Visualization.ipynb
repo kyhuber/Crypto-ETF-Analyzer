{
 "cells": [
  {
   "cell_type": "code",
   "execution_count": null,
   "id": "a6e84c06-18b7-46e6-b6bd-6aa9b837088b",
   "metadata": {},
   "outputs": [],
   "source": [
    "#This is the file we will use to organize the team's data visualization work"
   ]
  },
  {
   "cell_type": "code",
   "execution_count": null,
   "id": "a52b9b01-bfe4-4e99-8f4d-89712008c0da",
   "metadata": {},
   "outputs": [],
   "source": [
    "# Import the required libraries and dependencies\n",
    "import pandas as pd\n",
    "import hvplot.pandas\n",
    "from pathlib import Path"
   ]
  },
  {
   "cell_type": "code",
   "execution_count": 1,
   "id": "a0543ce0-8660-4bb2-93ce-2aede5b222b8",
   "metadata": {},
   "outputs": [
    {
     "ename": "NameError",
     "evalue": "name 'pd' is not defined",
     "output_type": "error",
     "traceback": [
      "\u001b[1;31m---------------------------------------------------------------------------\u001b[0m",
      "\u001b[1;31mNameError\u001b[0m                                 Traceback (most recent call last)",
      "\u001b[1;32m~\\AppData\\Local\\Temp/ipykernel_8728/2211998131.py\u001b[0m in \u001b[0;36m<module>\u001b[1;34m\u001b[0m\n\u001b[0;32m      1\u001b[0m \u001b[1;31m# Using the read_csv function and Path module, create a DataFrame\u001b[0m\u001b[1;33m\u001b[0m\u001b[1;33m\u001b[0m\u001b[1;33m\u001b[0m\u001b[0m\n\u001b[0;32m      2\u001b[0m \u001b[1;31m# by importing the sfo_neighborhoods_census_data.csv file from the Resources folder\u001b[0m\u001b[1;33m\u001b[0m\u001b[1;33m\u001b[0m\u001b[1;33m\u001b[0m\u001b[0m\n\u001b[1;32m----> 3\u001b[1;33m test_etf_df = pd.read_csv(\n\u001b[0m\u001b[0;32m      4\u001b[0m     Path(\"Test_ETF_Crypto_Prices.csv\",\n\u001b[0;32m      5\u001b[0m          \u001b[0mindex_col\u001b[0m\u001b[1;33m=\u001b[0m\u001b[1;34m\"date\"\u001b[0m\u001b[1;33m,\u001b[0m\u001b[1;33m\u001b[0m\u001b[1;33m\u001b[0m\u001b[0m\n",
      "\u001b[1;31mNameError\u001b[0m: name 'pd' is not defined"
     ]
    }
   ],
   "source": [
    "# Using the read_csv function and Path module, create a DataFrame \n",
    "# by importing the sfo_neighborhoods_census_data.csv file from the Resources folder\n",
    "test_etf_df = pd.read_csv(\n",
    "    Path(\"Test_ETF_Crypto_Prices.csv\",\n",
    "         index_col=\"date\",\n",
    "         parse_dates=True,\n",
    "         infer_datetime_format=True)\n",
    ")        \n",
    "\n",
    "# Review the first and last five rows of the DataFrame\n",
    "test_etf_df.head()"
   ]
  },
  {
   "cell_type": "code",
   "execution_count": null,
   "id": "c430b7ed-7107-4d6e-aaa0-8f686c7a63fc",
   "metadata": {},
   "outputs": [],
   "source": []
  }
 ],
 "metadata": {
  "kernelspec": {
   "display_name": "Python (dev)",
   "language": "python",
   "name": "dev"
  },
  "language_info": {
   "codemirror_mode": {
    "name": "ipython",
    "version": 3
   },
   "file_extension": ".py",
   "mimetype": "text/x-python",
   "name": "python",
   "nbconvert_exporter": "python",
   "pygments_lexer": "ipython3",
   "version": "3.7.11"
  }
 },
 "nbformat": 4,
 "nbformat_minor": 5
}
